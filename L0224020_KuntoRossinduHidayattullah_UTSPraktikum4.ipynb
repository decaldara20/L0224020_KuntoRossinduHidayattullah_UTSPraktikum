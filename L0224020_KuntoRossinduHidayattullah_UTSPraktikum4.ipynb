{
 "cells": [
  {
   "cell_type": "code",
   "execution_count": 1,
   "id": "91eac54c",
   "metadata": {},
   "outputs": [],
   "source": [
    "import scipy as sc\n",
    "import numpy as np"
   ]
  },
  {
   "cell_type": "code",
   "execution_count": 2,
   "id": "632321dc",
   "metadata": {},
   "outputs": [],
   "source": [
    "x0 = 200\n",
    "xmax = 5000\n",
    "time = 100\n",
    "growth = 0.08"
   ]
  },
  {
   "cell_type": "markdown",
   "id": "6cfbabf7",
   "metadata": {},
   "source": [
    "*x0 = jumlah awal ikan cupang*\n",
    "*xmax = populasi maksimal ikan cupang di kolam*\n",
    "*time = waktu budidaya (bulan)*\n",
    "*growth = pertumbuhan ikan cupang per bulan*"
   ]
  },
  {
   "cell_type": "code",
   "execution_count": 4,
   "id": "395e11c9",
   "metadata": {},
   "outputs": [
    {
     "name": "stdout",
     "output_type": "stream",
     "text": [
      "1600.0\n"
     ]
    }
   ],
   "source": [
    "h0 = (x0 * growth) * time\n",
    "print(h0)"
   ]
  }
 ],
 "metadata": {
  "kernelspec": {
   "display_name": "Python 3",
   "language": "python",
   "name": "python3"
  },
  "language_info": {
   "codemirror_mode": {
    "name": "ipython",
    "version": 3
   },
   "file_extension": ".py",
   "mimetype": "text/x-python",
   "name": "python",
   "nbconvert_exporter": "python",
   "pygments_lexer": "ipython3",
   "version": "3.13.7"
  }
 },
 "nbformat": 4,
 "nbformat_minor": 5
}
