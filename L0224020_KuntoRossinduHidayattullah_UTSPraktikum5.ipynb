{
 "cells": [
  {
   "cell_type": "code",
   "execution_count": null,
   "id": "210ea46d",
   "metadata": {},
   "outputs": [],
   "source": [
    "import pandas as pd\n",
    "import numpy as np"
   ]
  },
  {
   "cell_type": "code",
   "execution_count": 3,
   "id": "f92253a0",
   "metadata": {},
   "outputs": [
    {
     "data": {
      "text/html": [
       "<div>\n",
       "<style scoped>\n",
       "    .dataframe tbody tr th:only-of-type {\n",
       "        vertical-align: middle;\n",
       "    }\n",
       "\n",
       "    .dataframe tbody tr th {\n",
       "        vertical-align: top;\n",
       "    }\n",
       "\n",
       "    .dataframe thead th {\n",
       "        text-align: right;\n",
       "    }\n",
       "</style>\n",
       "<table border=\"1\" class=\"dataframe\">\n",
       "  <thead>\n",
       "    <tr style=\"text-align: right;\">\n",
       "      <th></th>\n",
       "      <th>Timestamp</th>\n",
       "      <th>Vibration (mm/s)</th>\n",
       "      <th>Temperature (°C)</th>\n",
       "      <th>Pressure (bar)</th>\n",
       "      <th>RMS Vibration</th>\n",
       "      <th>Mean Temp</th>\n",
       "      <th>Fault Label</th>\n",
       "    </tr>\n",
       "  </thead>\n",
       "  <tbody>\n",
       "    <tr>\n",
       "      <th>0</th>\n",
       "      <td>2023-03-10 00:00:00</td>\n",
       "      <td>0.437086</td>\n",
       "      <td>64.810634</td>\n",
       "      <td>7.785117</td>\n",
       "      <td>0.601657</td>\n",
       "      <td>90.561384</td>\n",
       "      <td>1</td>\n",
       "    </tr>\n",
       "    <tr>\n",
       "      <th>1</th>\n",
       "      <td>2023-03-10 00:01:00</td>\n",
       "      <td>0.955643</td>\n",
       "      <td>93.352076</td>\n",
       "      <td>7.740936</td>\n",
       "      <td>0.601657</td>\n",
       "      <td>90.561384</td>\n",
       "      <td>1</td>\n",
       "    </tr>\n",
       "    <tr>\n",
       "      <th>2</th>\n",
       "      <td>2023-03-10 00:02:00</td>\n",
       "      <td>0.758795</td>\n",
       "      <td>119.835667</td>\n",
       "      <td>9.718764</td>\n",
       "      <td>0.601657</td>\n",
       "      <td>90.561384</td>\n",
       "      <td>0</td>\n",
       "    </tr>\n",
       "    <tr>\n",
       "      <th>3</th>\n",
       "      <td>2023-03-10 00:03:00</td>\n",
       "      <td>0.638793</td>\n",
       "      <td>108.577991</td>\n",
       "      <td>7.748639</td>\n",
       "      <td>0.601657</td>\n",
       "      <td>90.561384</td>\n",
       "      <td>1</td>\n",
       "    </tr>\n",
       "    <tr>\n",
       "      <th>4</th>\n",
       "      <td>2023-03-10 00:04:00</td>\n",
       "      <td>0.240417</td>\n",
       "      <td>114.524892</td>\n",
       "      <td>7.815849</td>\n",
       "      <td>0.601657</td>\n",
       "      <td>90.561384</td>\n",
       "      <td>0</td>\n",
       "    </tr>\n",
       "  </tbody>\n",
       "</table>\n",
       "</div>"
      ],
      "text/plain": [
       "             Timestamp  Vibration (mm/s)  Temperature (°C)  Pressure (bar)  \\\n",
       "0  2023-03-10 00:00:00          0.437086         64.810634        7.785117   \n",
       "1  2023-03-10 00:01:00          0.955643         93.352076        7.740936   \n",
       "2  2023-03-10 00:02:00          0.758795        119.835667        9.718764   \n",
       "3  2023-03-10 00:03:00          0.638793        108.577991        7.748639   \n",
       "4  2023-03-10 00:04:00          0.240417        114.524892        7.815849   \n",
       "\n",
       "   RMS Vibration  Mean Temp  Fault Label  \n",
       "0       0.601657  90.561384            1  \n",
       "1       0.601657  90.561384            1  \n",
       "2       0.601657  90.561384            0  \n",
       "3       0.601657  90.561384            1  \n",
       "4       0.601657  90.561384            0  "
      ]
     },
     "execution_count": 3,
     "metadata": {},
     "output_type": "execute_result"
    }
   ],
   "source": [
    "data = pd.read_csv(\"D:\\\\SEMESTER 3\\\\PDS\\\\industrial_fault_detection_data_1000.csv\")\n",
    "data.head()"
   ]
  },
  {
   "cell_type": "code",
   "execution_count": 8,
   "id": "b0b06da2",
   "metadata": {},
   "outputs": [
    {
     "data": {
      "text/plain": [
       "Timestamp           0\n",
       "Vibration (mm/s)    0\n",
       "Temperature (°C)    0\n",
       "Pressure (bar)      0\n",
       "RMS Vibration       0\n",
       "Mean Temp           0\n",
       "Fault Label         0\n",
       "dtype: int64"
      ]
     },
     "execution_count": 8,
     "metadata": {},
     "output_type": "execute_result"
    }
   ],
   "source": [
    "data.isna().sum()"
   ]
  },
  {
   "cell_type": "code",
   "execution_count": 9,
   "id": "d9b22017",
   "metadata": {},
   "outputs": [
    {
     "data": {
      "text/plain": [
       "np.int64(0)"
      ]
     },
     "execution_count": 9,
     "metadata": {},
     "output_type": "execute_result"
    }
   ],
   "source": [
    "data.duplicated().sum()"
   ]
  },
  {
   "cell_type": "code",
   "execution_count": null,
   "id": "095267f8",
   "metadata": {},
   "outputs": [],
   "source": [
    "from sklearn"
   ]
  }
 ],
 "metadata": {
  "kernelspec": {
   "display_name": "Python 3",
   "language": "python",
   "name": "python3"
  },
  "language_info": {
   "codemirror_mode": {
    "name": "ipython",
    "version": 3
   },
   "file_extension": ".py",
   "mimetype": "text/x-python",
   "name": "python",
   "nbconvert_exporter": "python",
   "pygments_lexer": "ipython3",
   "version": "3.13.7"
  }
 },
 "nbformat": 4,
 "nbformat_minor": 5
}
